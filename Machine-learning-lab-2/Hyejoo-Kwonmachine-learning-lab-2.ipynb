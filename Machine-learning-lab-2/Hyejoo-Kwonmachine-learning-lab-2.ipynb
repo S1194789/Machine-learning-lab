{
 "cells": [
  {
   "cell_type": "markdown",
   "id": "a4994c12-8a77-4322-ba94-f8f781538f9d",
   "metadata": {},
   "source": [
    "# Hyejoo-Kwon-machine-learning-lab-2\n",
    "Helper : Shahid "
   ]
  },
  {
   "cell_type": "code",
   "execution_count": 1,
   "id": "c49a3487-ad3e-495d-a1c1-1b3a38e732d9",
   "metadata": {},
   "outputs": [
    {
     "name": "stdout",
     "output_type": "stream",
     "text": [
      "Defaulting to user installation because normal site-packages is not writeable\n",
      "Requirement already satisfied: pandas in /home/joo/.local/lib/python3.10/site-packages (2.2.3)\n",
      "Requirement already satisfied: numpy>=1.22.4 in /home/joo/.local/lib/python3.10/site-packages (from pandas) (2.1.1)\n",
      "Requirement already satisfied: python-dateutil>=2.8.2 in /home/joo/.local/lib/python3.10/site-packages (from pandas) (2.9.0.post0)\n",
      "Requirement already satisfied: pytz>=2020.1 in /usr/lib/python3/dist-packages (from pandas) (2022.1)\n",
      "Requirement already satisfied: tzdata>=2022.7 in /home/joo/.local/lib/python3.10/site-packages (from pandas) (2024.2)\n",
      "Requirement already satisfied: six>=1.5 in /usr/lib/python3/dist-packages (from python-dateutil>=2.8.2->pandas) (1.16.0)\n"
     ]
    }
   ],
   "source": [
    "!pip install pandas\n"
   ]
  },
  {
   "cell_type": "markdown",
   "id": "411e2a5d-9a8d-4ffb-a72d-777f168aa3a6",
   "metadata": {},
   "source": [
    "!pip install matplotlib\n"
   ]
  },
  {
   "cell_type": "code",
   "execution_count": 4,
   "id": "3ba06144-cadf-4970-a7b0-7725a612b70f",
   "metadata": {},
   "outputs": [
    {
     "name": "stdout",
     "output_type": "stream",
     "text": [
      "Defaulting to user installation because normal site-packages is not writeable\n",
      "Requirement already satisfied: pip in /home/joo/.local/lib/python3.10/site-packages (24.3.1)\n",
      "Note: you may need to restart the kernel to use updated packages.\n"
     ]
    }
   ],
   "source": [
    "pip install --upgrade pip"
   ]
  },
  {
   "cell_type": "code",
   "execution_count": 3,
   "id": "99f5d74a-9b6a-40a7-9eaf-c1171e0c6477",
   "metadata": {},
   "outputs": [
    {
     "name": "stdout",
     "output_type": "stream",
     "text": [
      "Defaulting to user installation because normal site-packages is not writeable\n",
      "Requirement already satisfied: numpy in /home/joo/.local/lib/python3.10/site-packages (2.1.1)\n"
     ]
    }
   ],
   "source": [
    "!pip install numpy"
   ]
  },
  {
   "cell_type": "code",
   "execution_count": 5,
   "id": "86de1531-411c-4e76-8067-92277c0db405",
   "metadata": {},
   "outputs": [
    {
     "name": "stderr",
     "output_type": "stream",
     "text": [
      "/home/joo/.local/lib/python3.10/site-packages/matplotlib/projections/__init__.py:63: UserWarning: Unable to import Axes3D. This may be due to multiple versions of Matplotlib being installed (e.g. as a system package and as a pip package). As a result, the 3D projection is not available.\n",
      "  warnings.warn(\"Unable to import Axes3D. This may be due to multiple versions of \"\n"
     ]
    }
   ],
   "source": [
    "import pandas as pd\n",
    "import matplotlib.pyplot as plt\n",
    "import csv\n",
    "import numpy as np"
   ]
  },
  {
   "cell_type": "markdown",
   "id": "3612402d-fe1d-4c09-83ab-ea234c2b826b",
   "metadata": {},
   "source": [
    "## Question 1 \n",
    "Copy the existing code from Lab 1, creating a new folder for this lab and pasting in the code for the linear regressor."
   ]
  },
  {
   "cell_type": "code",
   "execution_count": 95,
   "id": "4f702726-8cfe-43ff-b36d-6e997b86b717",
   "metadata": {},
   "outputs": [],
   "source": [
    "class LinearRegressor:\n",
    "\n",
    "    def mae(y,y_pred) -> float :\n",
    "        return sum(abs(y - y_pred)) / len(y)\n",
    "\n",
    "    def lm_3(x,y,lr=0.01, epoch=1000 )-> tuple[float, float]:\n",
    "        n=len(x)\n",
    "        m = 0;\n",
    "        b = 0;\n",
    "        for _ in range(epoch):\n",
    "              y_pred = m * x + b\n",
    "              cost = (1/n) * sum((y - y_pred)**2)\n",
    "              dm = (-2/n) * sum(x * (y - y_pred))\n",
    "              db = (-2/n) * sum(y - y_pred)\n",
    "              m = m - lr * dm\n",
    "              b = b - lr * db\n",
    "        return m,b\n",
    "    \n",
    "    def cal_y_pred_3(x,y):\n",
    "        m, b = lm_3(x,y)\n",
    "        y_pred = m * x + b\n",
    "        return y_pred"
   ]
  },
  {
   "cell_type": "markdown",
   "id": "77dbb010-1e2e-486a-a77c-cffe5dde2be9",
   "metadata": {},
   "source": [
    "## Question 2\n",
    "For this lab, we’re going to be performing a binary classification problem, but this dataset has 3 classes: setosa, virginica, and versicolor. So we want to take this multi-class problem and transform it into a binary classification.\n",
    "\n",
    "Create a new column for the dataset called target. The value of target will be 1 if the row contains a setosa flower, else the value is 0. There should be \n",
    " \n",
    " rows with the value of 1, the rest should be 0."
   ]
  },
  {
   "cell_type": "code",
   "execution_count": 7,
   "id": "7007afbe-6861-49ea-87a2-5c59e701cd05",
   "metadata": {},
   "outputs": [
    {
     "name": "stdout",
     "output_type": "stream",
     "text": [
      "--2025-01-22 08:11:34--  https://gist.githubusercontent.com/netj/8836201/raw/6f9306ad21398ea43cba4f7d537619d0e07d5ae3/iris.csv\n",
      "Resolving gist.githubusercontent.com (gist.githubusercontent.com)... 185.199.111.133, 185.199.110.133, 185.199.108.133, ...\n",
      "Connecting to gist.githubusercontent.com (gist.githubusercontent.com)|185.199.111.133|:443... connected.\n",
      "HTTP request sent, awaiting response... 200 OK\n",
      "Length: 3975 (3.9K) [text/plain]\n",
      "Saving to: ‘iris.csv’\n",
      "\n",
      "iris.csv            100%[===================>]   3.88K  --.-KB/s    in 0s      \n",
      "\n",
      "2025-01-22 08:11:34 (82.2 MB/s) - ‘iris.csv’ saved [3975/3975]\n",
      "\n"
     ]
    }
   ],
   "source": [
    "!wget -O iris.csv https://gist.githubusercontent.com/netj/8836201/raw/6f9306ad21398ea43cba4f7d537619d0e07d5ae3/iris.csv\n",
    "\n",
    "\n",
    "\n"
   ]
  },
  {
   "cell_type": "code",
   "execution_count": 8,
   "id": "f34b9ebd-a9ea-4dd4-a27e-1b346fa283c8",
   "metadata": {},
   "outputs": [
    {
     "data": {
      "text/html": [
       "<div>\n",
       "<style scoped>\n",
       "    .dataframe tbody tr th:only-of-type {\n",
       "        vertical-align: middle;\n",
       "    }\n",
       "\n",
       "    .dataframe tbody tr th {\n",
       "        vertical-align: top;\n",
       "    }\n",
       "\n",
       "    .dataframe thead th {\n",
       "        text-align: right;\n",
       "    }\n",
       "</style>\n",
       "<table border=\"1\" class=\"dataframe\">\n",
       "  <thead>\n",
       "    <tr style=\"text-align: right;\">\n",
       "      <th></th>\n",
       "      <th>sepal.length</th>\n",
       "      <th>sepal.width</th>\n",
       "      <th>petal.length</th>\n",
       "      <th>petal.width</th>\n",
       "      <th>variety</th>\n",
       "    </tr>\n",
       "  </thead>\n",
       "  <tbody>\n",
       "    <tr>\n",
       "      <th>0</th>\n",
       "      <td>5.1</td>\n",
       "      <td>3.5</td>\n",
       "      <td>1.4</td>\n",
       "      <td>0.2</td>\n",
       "      <td>Setosa</td>\n",
       "    </tr>\n",
       "    <tr>\n",
       "      <th>1</th>\n",
       "      <td>4.9</td>\n",
       "      <td>3.0</td>\n",
       "      <td>1.4</td>\n",
       "      <td>0.2</td>\n",
       "      <td>Setosa</td>\n",
       "    </tr>\n",
       "    <tr>\n",
       "      <th>2</th>\n",
       "      <td>4.7</td>\n",
       "      <td>3.2</td>\n",
       "      <td>1.3</td>\n",
       "      <td>0.2</td>\n",
       "      <td>Setosa</td>\n",
       "    </tr>\n",
       "    <tr>\n",
       "      <th>3</th>\n",
       "      <td>4.6</td>\n",
       "      <td>3.1</td>\n",
       "      <td>1.5</td>\n",
       "      <td>0.2</td>\n",
       "      <td>Setosa</td>\n",
       "    </tr>\n",
       "    <tr>\n",
       "      <th>4</th>\n",
       "      <td>5.0</td>\n",
       "      <td>3.6</td>\n",
       "      <td>1.4</td>\n",
       "      <td>0.2</td>\n",
       "      <td>Setosa</td>\n",
       "    </tr>\n",
       "  </tbody>\n",
       "</table>\n",
       "</div>"
      ],
      "text/plain": [
       "   sepal.length  sepal.width  petal.length  petal.width variety\n",
       "0           5.1          3.5           1.4          0.2  Setosa\n",
       "1           4.9          3.0           1.4          0.2  Setosa\n",
       "2           4.7          3.2           1.3          0.2  Setosa\n",
       "3           4.6          3.1           1.5          0.2  Setosa\n",
       "4           5.0          3.6           1.4          0.2  Setosa"
      ]
     },
     "execution_count": 8,
     "metadata": {},
     "output_type": "execute_result"
    }
   ],
   "source": [
    "data = pd.read_csv(\"/home/joo/jnotebook/iris.csv\")\n",
    "data.head()\n"
   ]
  },
  {
   "cell_type": "code",
   "execution_count": 9,
   "id": "616d8ea2-8749-4ad3-8e9b-42749604c87b",
   "metadata": {},
   "outputs": [
    {
     "data": {
      "text/html": [
       "<div>\n",
       "<style scoped>\n",
       "    .dataframe tbody tr th:only-of-type {\n",
       "        vertical-align: middle;\n",
       "    }\n",
       "\n",
       "    .dataframe tbody tr th {\n",
       "        vertical-align: top;\n",
       "    }\n",
       "\n",
       "    .dataframe thead th {\n",
       "        text-align: right;\n",
       "    }\n",
       "</style>\n",
       "<table border=\"1\" class=\"dataframe\">\n",
       "  <thead>\n",
       "    <tr style=\"text-align: right;\">\n",
       "      <th></th>\n",
       "      <th>petal.length</th>\n",
       "      <th>petal.width</th>\n",
       "      <th>target</th>\n",
       "    </tr>\n",
       "  </thead>\n",
       "  <tbody>\n",
       "    <tr>\n",
       "      <th>0</th>\n",
       "      <td>1.4</td>\n",
       "      <td>0.2</td>\n",
       "      <td>1</td>\n",
       "    </tr>\n",
       "    <tr>\n",
       "      <th>1</th>\n",
       "      <td>1.4</td>\n",
       "      <td>0.2</td>\n",
       "      <td>1</td>\n",
       "    </tr>\n",
       "    <tr>\n",
       "      <th>2</th>\n",
       "      <td>1.3</td>\n",
       "      <td>0.2</td>\n",
       "      <td>1</td>\n",
       "    </tr>\n",
       "    <tr>\n",
       "      <th>3</th>\n",
       "      <td>1.5</td>\n",
       "      <td>0.2</td>\n",
       "      <td>1</td>\n",
       "    </tr>\n",
       "    <tr>\n",
       "      <th>4</th>\n",
       "      <td>1.4</td>\n",
       "      <td>0.2</td>\n",
       "      <td>1</td>\n",
       "    </tr>\n",
       "  </tbody>\n",
       "</table>\n",
       "</div>"
      ],
      "text/plain": [
       "   petal.length  petal.width  target\n",
       "0           1.4          0.2       1\n",
       "1           1.4          0.2       1\n",
       "2           1.3          0.2       1\n",
       "3           1.5          0.2       1\n",
       "4           1.4          0.2       1"
      ]
     },
     "execution_count": 9,
     "metadata": {},
     "output_type": "execute_result"
    }
   ],
   "source": [
    "data['target'] = data['variety'].apply(lambda x: 1 if x == 'Setosa' else 0)\n",
    "columns_to_drop = ['variety', 'sepal.length', 'sepal.width']\n",
    "data1 = data.drop(columns_to_drop, axis=1)\n",
    "data1.head()\n"
   ]
  },
  {
   "cell_type": "markdown",
   "id": "d47e5acf-d1f2-4bfa-bd45-2e257ff58406",
   "metadata": {},
   "source": [
    "## Question 3\n",
    "For this question we want to take this dataset of 150 rows, and split it into a train, test, and validation dataset, using the following proportions for each split:\n",
    "\n",
    "Training: 70%\n",
    "Validation: 10%\n",
    "Testing: 20%\n",
    "Sample data for each subset using stratified sampling. I.e. the training data should have roughly 1/3 positive samples, the testing and validation dataset should also have roughly 1/3\n",
    " \n",
    " positive samples. \n"
   ]
  },
  {
   "cell_type": "code",
   "execution_count": 10,
   "id": "92f90ab7-8de2-467b-a520-3467a90c12ed",
   "metadata": {},
   "outputs": [],
   "source": [
    "# Shuffle and split the data for each class\n",
    "class_1 = data1[data1['target'] == 1].sample(frac=1, random_state=42).reset_index(drop=True)\n",
    "class_0 = data1[data1['target'] == 0].sample(frac=1, random_state=42).reset_index(drop=True)\n",
    "\n",
    "# Split class 1\n",
    "train_1 = class_1.iloc[:int(len(class_1) * 0.7)]\n",
    "val_1 = class_1.iloc[int(len(class_1) * 0.7):int(len(class_1) * 0.8)]\n",
    "test_1 = class_1.iloc[int(len(class_1) * 0.8):]\n",
    "\n",
    "# Split class 0\n",
    "train_0 = class_0.iloc[:int(len(class_0) * 0.7)]\n",
    "val_0 = class_0.iloc[int(len(class_0) * 0.7):int(len(class_0) * 0.8)]\n",
    "test_0 = class_0.iloc[int(len(class_0) * 0.8):]\n",
    "\n",
    "# Combine splits\n",
    "train_data = pd.concat([train_1, train_0]).sample(frac=1, random_state=42).reset_index(drop=True)\n",
    "val_data = pd.concat([val_1, val_0]).sample(frac=1, random_state=42).reset_index(drop=True)\n",
    "test_data = pd.concat([test_1, test_0]).sample(frac=1, random_state=42).reset_index(drop=True)\n",
    "\n",
    "# Extract features and target\n",
    "X_train = train_data.drop(columns=['target']).to_numpy()\n",
    "y_train = train_data['target'].to_numpy()\n",
    "\n",
    "X_val = val_data.drop(columns=['target']).to_numpy()\n",
    "y_val = val_data['target'].to_numpy()\n",
    "\n",
    "X_test = test_data.drop(columns=['target']).to_numpy()\n",
    "y_test = test_data['target'].to_numpy()\n",
    "\n",
    "# Standardize data\n",
    "mean, std = X_train.mean(axis=0), X_train.std(axis=0)\n",
    "train = (X_train - mean) / std\n",
    "valid = (X_val - mean) / std\n",
    "test = (X_test - mean) / std\n"
   ]
  },
  {
   "cell_type": "code",
   "execution_count": 30,
   "id": "9aac2936-f1d1-46b3-a6f7-8b14b5c89bd9",
   "metadata": {},
   "outputs": [
    {
     "data": {
      "text/plain": [
       "array([0, 0, 1, 0, 0, 0, 1, 1, 0, 1, 0, 0, 0, 1, 0])"
      ]
     },
     "execution_count": 30,
     "metadata": {},
     "output_type": "execute_result"
    }
   ],
   "source": []
  },
  {
   "cell_type": "markdown",
   "id": "6b7c794c-78aa-404a-a7c8-a1005c2e6ed6",
   "metadata": {},
   "source": [
    "## Question 4\n",
    "Using the linear regression model you created in the previous lecture,\n",
    "transform it into a logistic regressor by applying the logistic function to the\n",
    "output of the model. The loss function for this model should be binary cross\n",
    "entropy.\n",
    "\n",
    "Select two columns from the Iris dataset (i.e. petal length and petal width),\n",
    "and using these two columns, train a logistic regressor using gradient\n",
    "descent, measuring the gradient using finite differences approximation. This\n",
    "means that instead of having a single slope variable, we have multiple:\n",
    "\n",
    "ŷ = σ(β₀ + Σ xᵢβᵢ)\n",
    "     i=1\n",
    "\n",
    "where ŷ is the model's probability prediction, σ is the logistic/sigmoid\n",
    "function, β₀ is the intercept, βᵢ is the coefficient that modulates the xᵢ\n",
    "variable.\n"
   ]
  },
  {
   "cell_type": "code",
   "execution_count": 46,
   "id": "a159eda8-ea12-4af0-aecf-29b84dab9295",
   "metadata": {},
   "outputs": [],
   "source": [
    "def bce(y, yhat):\n",
    "    # TODO: apply the binary cross entropy function returning the loss\n",
    "    \"\"\"Acts as the Cost Function\"\"\"\n",
    "    \n",
    "    epsilon = 1e-10\n",
    "    yhat = np.clip(yhat, epsilon, 1 - epsilon)  # Avoiding log(0) case\n",
    "    \n",
    "    loss = np.sum((-y*np.log(yhat)) - ((1-y)*np.log(1-yhat))) #the cost function\n",
    "    return loss\n",
    "\n",
    "class LogisticRegressor:\n",
    "    def __init__(self, n_features: int = 2):\n",
    "        \"\"\"Constructor\"\"\"\n",
    "        self.params = np.random.randn(n_features + 1)\n",
    "        self.epoch_train_error = []\n",
    "        self.epoch_valid_error = []\n",
    "\n",
    "    def logistic(self, x):\n",
    "        # TODO: apply the logistic function\n",
    "        \"\"\" Acts as sigmoid activation function\"\"\"\n",
    "        return(1/(1+np.exp(-x)))\n",
    "\n",
    "\n",
    "    def __call__(self, x, logits=False):\n",
    "        \"\"\"The main model\"\"\"\n",
    "        y = self.params[0] + self.params[1:] @ x.T\n",
    "        if not logits:\n",
    "            y = self.logistic(y)\n",
    "        return y\n",
    "    \n",
    "    def model(self,x,param,logits=False):\n",
    "        \"\"\"model for training\"\"\"\n",
    "        y = param[0] + param[1:] @ x.T\n",
    "        if not logits:\n",
    "            y = self.logistic(y)\n",
    "        return y\n",
    "\n",
    "    def fit(self,train_x, train_y, valid_x, valid_y, epochs: int = 100, lr: float = 0.01):\n",
    "        # TODO: train the model using gradient descent and finite-differences\n",
    "        \"\"\"For training the model using gradient descent\"\"\"\n",
    "    \n",
    "        for epoch in range(1, epochs+1):\n",
    "        \n",
    "            error_train = [] #holds error for each iteration\n",
    "            error_valid = []\n",
    "            h =0.05 #a very small value\n",
    "            \n",
    "            for xi, yi in zip(train_x, train_y):\n",
    "                # calculate loss and update model parameters using gradient descent\n",
    "                y_hat = self(x = xi)\n",
    "                error_without_h = bce(yi, y_hat)\n",
    "                error_train.append(error_without_h)\n",
    "                grad_list =[]\n",
    "                \n",
    "                for pos in range(0,len(self.params)): #for all the beta values and adding h    \n",
    "                    param = self.params.tolist()\n",
    "                    param[pos] += h\n",
    "                    y_hat = self.model(xi,param) #Predict\n",
    "                    error_with_h = bce(yi, y_hat) #Calculate the error  \n",
    "                    grad = (error_with_h  - error_without_h)/h #the gradient\n",
    "                    grad_list.append(grad)\n",
    "                    \n",
    "                self.params-= lr * np.array(grad_list) #Parameter update\n",
    "\n",
    "            for xi, yi in zip(valid_x, valid_y):\n",
    "                # calculate validation loss (BUT DON'T UPDATE MODEL PARAMETERS!)\n",
    "                y_hat = self.__call__(x = xi)#Predict\n",
    "                error_valid.append(bce(yi, y_hat))#Calculate the error\n",
    "            \n",
    "            #The epoch errors by taking the mean of iteration errors\n",
    "            self.epoch_train_error.append(np.mean(error_train))\n",
    "            self.epoch_valid_error.append(np.mean(error_valid))\n",
    "            \n",
    "        return (self.epoch_train_error,self.epoch_valid_error)\n",
    "    \n",
    "    def predict(self,x, logits):\n",
    "        \"\"\"Used for testing the model\"\"\"\n",
    "        return self(x, logits=logits)\n",
    " \n"
   ]
  },
  {
   "cell_type": "code",
   "execution_count": null,
   "id": "3cb38389-ade7-446f-9553-b846667ac197",
   "metadata": {},
   "outputs": [],
   "source": []
  },
  {
   "cell_type": "markdown",
   "id": "c2f5a424-1e1b-4c33-a60f-fdf1612c937e",
   "metadata": {},
   "source": [
    "## Question 5\n",
    "As gradient descent is iterating, store (using class variables), the training and validation loss.\n",
    "\n",
    "Visualise the training and validation loss. Is there a point at which the model begins to over fit? How do you know that the model is beginning to overfit by looking at these curves?"
   ]
  },
  {
   "cell_type": "code",
   "execution_count": 49,
   "id": "7025967a-2a86-4010-a60d-716222fe1c69",
   "metadata": {},
   "outputs": [
    {
     "data": {
      "image/png": "[encoded data removed]",
      "text/plain": [
       "<Figure size 640x480 with 1 Axes>"
      ]
     },
     "metadata": {},
     "output_type": "display_data"
    }
   ],
   "source": [
    "# 데이터 준비\n",
    "train_x = train  # petal.length, petal.width\n",
    "train_y = y_train   # target\n",
    "valid_x = valid\n",
    "valid_y = y_val\n",
    "\n",
    "# 모델 초기화\n",
    "logi = LogisticRegressor(n_features=2)\n",
    "\n",
    "# 모델 학습\n",
    "train_err, valid_err = logi.fit(\n",
    "    train_x,\n",
    "    train_y,\n",
    "    valid_x,\n",
    "    valid_y,\n",
    "    epochs=100,\n",
    "    lr=0.1\n",
    ")\n",
    "yhat = logi.predict(valid, False)\n",
    "\n",
    "# 학습 손실 시각화\n",
    "import matplotlib.pyplot as plt\n",
    "plt.plot(list(range(100)), train_err, label='Train Loss')\n",
    "plt.plot(list(range(100)), valid_err, label='Valid Loss')\n",
    "plt.xlabel(\"Epoch\")\n",
    "plt.ylabel(\"Loss\")\n",
    "plt.legend()\n",
    "plt.show()\n"
   ]
  },
  {
   "cell_type": "markdown",
   "id": "67636e2f-dad3-48ed-ab5e-9b8a69cf6b2d",
   "metadata": {},
   "source": [
    "We can see that the model is not overfitting because the validation loss never becomes higher than the training loss. For the Iris dataset, the model performed badly and stayed unstable throughout the training process. After testing with around 10 epochs, validation losses start to increase higher than train loss, showing clear signs of overfitting. This means the model might have overfitted to the data."
   ]
  },
  {
   "cell_type": "markdown",
   "id": "3d8a10fb-60cd-47e1-b06b-b9e04d33c757",
   "metadata": {},
   "source": [
    "## Question 6\n",
    "Predict the class labels for the testing set.\n",
    "\n",
    "For the testing set, calculate the:\n",
    "\n",
    "TP – number of true positives\n",
    "TN – number of true negatives\n",
    "FP – number of false positives\n",
    "FN – number of false negatives"
   ]
  },
  {
   "cell_type": "code",
   "execution_count": 14,
   "id": "acd96c5a-f183-4359-9cfd-5e51e20d5d7c",
   "metadata": {},
   "outputs": [],
   "source": [
    "def compute_confusion_matrix(y_pred, y_true):\n",
    "    \"\"\"Computes the components of a confusion matrix\"\"\"\n",
    "    \n",
    "    # True Positives (TP)\n",
    "    TP = sum((y_pred == 1) & (y_true == 1))\n",
    "    # True Negatives (TN)\n",
    "    TN = sum((y_pred == 0) & (y_true == 0))\n",
    "    # False Positives (FP)\n",
    "    FP = sum((y_pred == 1) & (y_true == 0))\n",
    "    # False Negatives (FN)\n",
    "    FN = sum((y_pred == 0) & (y_true == 1))\n",
    "    return TP, TN, FP, FN\n"
   ]
  },
  {
   "cell_type": "code",
   "execution_count": 57,
   "id": "5fe7dbc0-c49b-4e99-b05b-8c1fe5049c5c",
   "metadata": {},
   "outputs": [
    {
     "name": "stdout",
     "output_type": "stream",
     "text": [
      "- True Positive: 10\n",
      "- True Negative: 20\n",
      "- False Positive: 0\n",
      "- False Negative: 0\n"
     ]
    }
   ],
   "source": [
    "yhat = logi.predict(test, False)\n",
    "y = y_test\n",
    "TP, TN, FP, FN = compute_confusion_matrix(np.round(yhat), y)\n",
    "print(f'- True Positive: {TP}')\n",
    "print(f'- True Negative: {TN}')\n",
    "print(f'- False Positive: {FP}')\n",
    "print(f'- False Negative: {FN}')"
   ]
  },
  {
   "cell_type": "markdown",
   "id": "30a2db9a-622f-44b6-8ac1-88375e4132be",
   "metadata": {},
   "source": [
    "## Question 7\n",
    "Calculate the precision and recall and F1 score."
   ]
  },
  {
   "cell_type": "code",
   "execution_count": 60,
   "id": "c46a061a-6207-4df6-bf5c-59ca2ec7673c",
   "metadata": {},
   "outputs": [
    {
     "name": "stdout",
     "output_type": "stream",
     "text": [
      "Precision: 0.0100\n",
      "Recall: 0.0100\n",
      "F1 Score: 0.0100\n"
     ]
    }
   ],
   "source": [
    "def precision(y, yhat):\n",
    "    \"\"\"Calculate Precision\"\"\"\n",
    "    # Precision is the ratio of correctly predicted positive observations to the total predicted positive observations.\n",
    "    TP, TN, FP, FN = compute_confusion_matrix(yhat, y)\n",
    "    return TP / (TP + FP) if (TP + FP) > 0 else 0.01\n",
    "\n",
    "def recall(y, yhat):\n",
    "    \"\"\"Calculate Recall\"\"\"\n",
    "    # Recall is the ratio of correctly predicted positive observations to all actual positives.\n",
    "    TP, TN, FP, FN = compute_confusion_matrix(yhat, y)\n",
    "    return TP / (TP + FN) if (TP + FN) > 0 else 0.01\n",
    "\n",
    "def f_beta(y, yhat, beta=1):\n",
    "    \"\"\"Calculates F-beta score\"\"\"\n",
    "    pr = precision(y, yhat)\n",
    "    rc = recall(y, yhat)\n",
    "    f_score = (1+beta**2)*((pr*rc)/(beta**2 * pr+rc))\n",
    "    return(f_score)\n",
    "\n",
    "yhat = logi.predict(test, False)\n",
    "y = y_test\n",
    "pr = precision(y, yhat)\n",
    "rc = recall(y, yhat)\n",
    "f1 = f_beta(y, yhat, beta=1)  # F1 Score (beta=1)\n",
    "\n",
    "# Print results\n",
    "print(f\"Precision: {pr:.4f}\")\n",
    "print(f\"Recall: {rc:.4f}\")\n",
    "print(f\"F1 Score: {f1:.4f}\")"
   ]
  },
  {
   "cell_type": "markdown",
   "id": "a9b6de30-993c-4770-b6b4-7c26d4eaceda",
   "metadata": {},
   "source": [
    "## Question 8\n",
    "Generate a report using the precision, recall and F1 and confusion matrix. The report should be printed like:"
   ]
  },
  {
   "cell_type": "code",
   "execution_count": 65,
   "id": "419f1487-d4da-4177-b884-91062fdc69f3",
   "metadata": {},
   "outputs": [],
   "source": [
    "def report(y, yhat):\n",
    "    \n",
    "    \"\"\"For generating the report\"\"\"\n",
    "    \n",
    "   \n",
    "    pr = precision(y, yhat)\n",
    "    rc = recall(y, yhat)\n",
    "    f1_score = f_beta(y, yhat)\n",
    "    \n",
    "    print('|        |          | Predicted |          |')\n",
    "    print('|        |          |  Positive | Negative |')\n",
    "    print(f'| Actual | Positive |         {TP} |        {FP} |')\n",
    "    print(f'|        | Negative |         {FN} |        {TN} |')\n",
    "    print('\\n')\n",
    "    print(f'- Precision: {pr}')\n",
    "    print(f'- Recall: {rc}')\n",
    "    print(f'- F_1 Score: {f1_score }')\n",
    "    return"
   ]
  },
  {
   "cell_type": "code",
   "execution_count": 72,
   "id": "0f72d2ea-0c15-425c-bc4b-05a46927af3a",
   "metadata": {},
   "outputs": [
    {
     "name": "stdout",
     "output_type": "stream",
     "text": [
      "|        |          | Predicted |          |\n",
      "|        |          |  Positive | Negative |\n",
      "| Actual | Positive |         10 |        0 |\n",
      "|        | Negative |         0 |        20 |\n",
      "\n",
      "\n",
      "- Precision: 0.01\n",
      "- Recall: 0.01\n",
      "- F_1 Score: 0.01\n",
      "None\n"
     ]
    }
   ],
   "source": [
    "\n",
    "y = y_val  \n",
    "yhat = logi.predict(valid, logits=False) \n",
    "\n",
    "print(report(y, yhat))\n"
   ]
  },
  {
   "cell_type": "markdown",
   "id": "69c10039-7b76-44d5-bf4f-41b139ea5c9e",
   "metadata": {},
   "source": [
    "## Question 9\n",
    "Calculate the true-positive and false positive rate, and from these values generate a ROC curve"
   ]
  },
  {
   "cell_type": "code",
   "execution_count": 73,
   "id": "a23d6051-d16f-42cc-b003-05998d41c2b6",
   "metadata": {},
   "outputs": [
    {
     "data": {
      "image/png": "[encoded data removed]",
      "text/plain": [
       "<Figure size 640x480 with 1 Axes>"
      ]
     },
     "metadata": {},
     "output_type": "display_data"
    }
   ],
   "source": [
    "def roc(y, yhat, threshold_step=0.01):\n",
    "    \"\"\"For the ROC Curve\"\"\"\n",
    "    # Iteratively increase the threshold by threshold_step,\n",
    "    # calculating the TP and FP rate for each iteration.\n",
    "    TPR = []  # True Positive Rate\n",
    "    FPR = []  # False Positive Rate\n",
    "    threshold = 0\n",
    "\n",
    "    while threshold <= 1:\n",
    "        # Apply threshold to predictions\n",
    "        rounded_yhat = np.array([1 if i >= threshold else 0 for i in yhat])\n",
    "\n",
    "        # Compute confusion matrix components\n",
    "        TP, TN, FP, FN = compute_confusion_matrix(rounded_yhat, y)\n",
    "\n",
    "        # Calculate True Positive Rate and False Positive Rate\n",
    "        TPR.append(TP / (TP + FN) if (TP + FN) > 0 else 0)\n",
    "        FPR.append(FP / (FP + TN) if (FP + TN) > 0 else 0)\n",
    "\n",
    "        # Update threshold\n",
    "        threshold += threshold_step\n",
    "\n",
    "    return TPR, FPR\n",
    "\n",
    "\n",
    "# Prepare the data for ROC curve\n",
    "y = y_val# The target column (last column in test data)\n",
    "yhat = logi.predict(valid, logits=False)  # Predicted probabilities from the model\n",
    "\n",
    "# Compute the ROC curve\n",
    "tp, fp = roc(y, yhat)\n",
    "\n",
    "# Visualize the ROC curve\n",
    "import matplotlib.pyplot as plt\n",
    "\n",
    "plt.plot(fp, tp)\n",
    "plt.xlabel('False Positive Rate')\n",
    "plt.ylabel('True Positive Rate')\n",
    "plt.title('ROC Curve')\n",
    "plt.show()\n"
   ]
  },
  {
   "cell_type": "markdown",
   "id": "1e49051f-4b07-48e5-945f-7900412d959e",
   "metadata": {},
   "source": [
    "## Question 10\n",
    "Now that you’ve created a logistic regressor for two features of the Iris dataset and have created some analytic results. Select another two columns (i.e. petal width and sepal length, or petal length and sepal width). Create a different logistic regressor using these new columns and create the same results as you did with questions 8 and 9.\n",
    "\n",
    "Compare these two models trained with different columns. Which model is best, and why do we know that it’s the best?"
   ]
  },
  {
   "cell_type": "code",
   "execution_count": 83,
   "id": "c0c5c01d-a65f-47e9-944f-9769ed09a0a7",
   "metadata": {},
   "outputs": [
    {
     "data": {
      "text/html": [
       "<div>\n",
       "<style scoped>\n",
       "    .dataframe tbody tr th:only-of-type {\n",
       "        vertical-align: middle;\n",
       "    }\n",
       "\n",
       "    .dataframe tbody tr th {\n",
       "        vertical-align: top;\n",
       "    }\n",
       "\n",
       "    .dataframe thead th {\n",
       "        text-align: right;\n",
       "    }\n",
       "</style>\n",
       "<table border=\"1\" class=\"dataframe\">\n",
       "  <thead>\n",
       "    <tr style=\"text-align: right;\">\n",
       "      <th></th>\n",
       "      <th>sepal.length</th>\n",
       "      <th>petal.width</th>\n",
       "      <th>target</th>\n",
       "    </tr>\n",
       "  </thead>\n",
       "  <tbody>\n",
       "    <tr>\n",
       "      <th>0</th>\n",
       "      <td>5.1</td>\n",
       "      <td>0.2</td>\n",
       "      <td>1</td>\n",
       "    </tr>\n",
       "    <tr>\n",
       "      <th>1</th>\n",
       "      <td>4.9</td>\n",
       "      <td>0.2</td>\n",
       "      <td>1</td>\n",
       "    </tr>\n",
       "    <tr>\n",
       "      <th>2</th>\n",
       "      <td>4.7</td>\n",
       "      <td>0.2</td>\n",
       "      <td>1</td>\n",
       "    </tr>\n",
       "    <tr>\n",
       "      <th>3</th>\n",
       "      <td>4.6</td>\n",
       "      <td>0.2</td>\n",
       "      <td>1</td>\n",
       "    </tr>\n",
       "    <tr>\n",
       "      <th>4</th>\n",
       "      <td>5.0</td>\n",
       "      <td>0.2</td>\n",
       "      <td>1</td>\n",
       "    </tr>\n",
       "  </tbody>\n",
       "</table>\n",
       "</div>"
      ],
      "text/plain": [
       "   sepal.length  petal.width  target\n",
       "0           5.1          0.2       1\n",
       "1           4.9          0.2       1\n",
       "2           4.7          0.2       1\n",
       "3           4.6          0.2       1\n",
       "4           5.0          0.2       1"
      ]
     },
     "execution_count": 83,
     "metadata": {},
     "output_type": "execute_result"
    }
   ],
   "source": [
    "data = pd.read_csv(\"/home/joo/jnotebook/iris.csv\")\n",
    "data.head()\n",
    "data['target'] = data['variety'].apply(lambda x: 1 if x == 'Setosa' else 0)\n",
    "columns_to_drop = ['variety', 'petal.length', 'sepal.width']\n",
    "data1 = data.drop(columns_to_drop, axis=1)\n",
    "data1.head()\n"
   ]
  },
  {
   "cell_type": "code",
   "execution_count": 84,
   "id": "e42b3150-f8c9-47c6-9fcd-5ea108803f3c",
   "metadata": {},
   "outputs": [],
   "source": [
    "# Shuffle and split the data for each class\n",
    "class_1 = data1[data1['target'] == 1].sample(frac=1, random_state=42).reset_index(drop=True)\n",
    "class_0 = data1[data1['target'] == 0].sample(frac=1, random_state=42).reset_index(drop=True)\n",
    "\n",
    "# Split class 1\n",
    "train_1 = class_1.iloc[:int(len(class_1) * 0.7)]\n",
    "val_1 = class_1.iloc[int(len(class_1) * 0.7):int(len(class_1) * 0.8)]\n",
    "test_1 = class_1.iloc[int(len(class_1) * 0.8):]\n",
    "\n",
    "# Split class 0\n",
    "train_0 = class_0.iloc[:int(len(class_0) * 0.7)]\n",
    "val_0 = class_0.iloc[int(len(class_0) * 0.7):int(len(class_0) * 0.8)]\n",
    "test_0 = class_0.iloc[int(len(class_0) * 0.8):]\n",
    "\n",
    "# Combine splits\n",
    "train_data = pd.concat([train_1, train_0]).sample(frac=1, random_state=42).reset_index(drop=True)\n",
    "val_data = pd.concat([val_1, val_0]).sample(frac=1, random_state=42).reset_index(drop=True)\n",
    "test_data = pd.concat([test_1, test_0]).sample(frac=1, random_state=42).reset_index(drop=True)\n",
    "\n",
    "# Extract features and target\n",
    "X_train = train_data.drop(columns=['target']).to_numpy()\n",
    "y_train = train_data['target'].to_numpy()\n",
    "\n",
    "X_val = val_data.drop(columns=['target']).to_numpy()\n",
    "y_val = val_data['target'].to_numpy()\n",
    "\n",
    "X_test = test_data.drop(columns=['target']).to_numpy()\n",
    "y_test = test_data['target'].to_numpy()\n",
    "\n",
    "# Standardize data\n",
    "mean, std = X_train.mean(axis=0), X_train.std(axis=0)\n",
    "train = (X_train - mean) / std\n",
    "valid = (X_val - mean) / std\n",
    "test = (X_test - mean) / std\n"
   ]
  },
  {
   "cell_type": "code",
   "execution_count": 85,
   "id": "11d1902d-1550-4b4d-bed0-945c10814cc9",
   "metadata": {},
   "outputs": [
    {
     "data": {
      "image/png": "[encoded data removed]",
      "text/plain": [
       "<Figure size 640x480 with 1 Axes>"
      ]
     },
     "metadata": {},
     "output_type": "display_data"
    }
   ],
   "source": [
    "# 데이터 준비\n",
    "train_x = train  # petal.length, petal.width\n",
    "train_y = y_train   # target\n",
    "valid_x = valid\n",
    "valid_y = y_val\n",
    "\n",
    "# 모델 초기화\n",
    "logi = LogisticRegressor(n_features=2)\n",
    "\n",
    "# 모델 학습\n",
    "train_err, valid_err = logi.fit(\n",
    "    train_x,\n",
    "    train_y,\n",
    "    valid_x,\n",
    "    valid_y,\n",
    "    epochs=100,\n",
    "    lr=0.1\n",
    ")\n",
    "yhat = logi.predict(valid, False)\n",
    "\n",
    "# 학습 손실 시각화\n",
    "import matplotlib.pyplot as plt\n",
    "plt.plot(list(range(100)), train_err, label='Train Loss')\n",
    "plt.plot(list(range(100)), valid_err, label='Valid Loss')\n",
    "plt.xlabel(\"Epoch\")\n",
    "plt.ylabel(\"Loss\")\n",
    "plt.legend()\n",
    "plt.show()\n"
   ]
  },
  {
   "cell_type": "code",
   "execution_count": 86,
   "id": "30877702-e042-4616-8699-a3eb2c39acc3",
   "metadata": {},
   "outputs": [
    {
     "name": "stdout",
     "output_type": "stream",
     "text": [
      "- True Positive: 10\n",
      "- True Negative: 20\n",
      "- False Positive: 0\n",
      "- False Negative: 0\n"
     ]
    }
   ],
   "source": [
    "yhat = logi.predict(test, False)\n",
    "y = y_test\n",
    "TP, TN, FP, FN = compute_confusion_matrix(np.round(yhat), y)\n",
    "print(f'- True Positive: {TP}')\n",
    "print(f'- True Negative: {TN}')\n",
    "print(f'- False Positive: {FP}')\n",
    "print(f'- False Negative: {FN}')"
   ]
  },
  {
   "cell_type": "code",
   "execution_count": 87,
   "id": "a5158bef-597e-4410-b56a-9d6ae6e5b8f0",
   "metadata": {},
   "outputs": [
    {
     "name": "stdout",
     "output_type": "stream",
     "text": [
      "Precision: 0.0100\n",
      "Recall: 0.0100\n",
      "F1 Score: 0.0100\n"
     ]
    }
   ],
   "source": [
    "pr = precision(y, yhat)\n",
    "rc = recall(y, yhat)\n",
    "f1 = f_beta(y, yhat, beta=1)  # F1 Score (beta=1)\n",
    "\n",
    "# Print results\n",
    "print(f\"Precision: {pr:.4f}\")\n",
    "print(f\"Recall: {rc:.4f}\")\n",
    "print(f\"F1 Score: {f1:.4f}\")"
   ]
  },
  {
   "cell_type": "code",
   "execution_count": 82,
   "id": "25fe5b42-6ce3-45f8-8a1f-c40d6f5976e6",
   "metadata": {},
   "outputs": [
    {
     "name": "stdout",
     "output_type": "stream",
     "text": [
      "|        |          | Predicted |          |\n",
      "|        |          |  Positive | Negative |\n",
      "| Actual | Positive |         10 |        0 |\n",
      "|        | Negative |         0 |        20 |\n",
      "\n",
      "\n",
      "- Precision: 0.01\n",
      "- Recall: 0.01\n",
      "- F_1 Score: 0.01\n",
      "None\n"
     ]
    }
   ],
   "source": [
    "print(report(y, yhat))\n"
   ]
  },
  {
   "cell_type": "code",
   "execution_count": 88,
   "id": "a01f53cb-14c9-4928-b6e4-84307fa6e23a",
   "metadata": {},
   "outputs": [
    {
     "data": {
      "image/png": "[encoded data removed]",
      "text/plain": [
       "<Figure size 640x480 with 1 Axes>"
      ]
     },
     "metadata": {},
     "output_type": "display_data"
    }
   ],
   "source": [
    "tp, fp = roc(y, yhat)\n",
    "plt.plot(fp,tp)\n",
    "plt.xlabel('False Positive Rate')\n",
    "plt.ylabel('True Positive Rate')\n",
    "plt.title('ROC Curve')\n",
    "plt.show()"
   ]
  },
  {
   "cell_type": "markdown",
   "id": "5b6f9a8f-9d00-46ac-b887-56c1173643b9",
   "metadata": {},
   "source": [
    "I have better results with the columns 'sepal.length' and 'petal.width.' Especially, I observed less overfitting in this case. However, despite the improvements in overfitting, the performance metrics remain extremely low:\n",
    "Precision: 0.01\n",
    "Recall: 0.01\n",
    "F_1 Score: 0.01\n",
    "This indicates that the model is to differentiate between the two classes effectively. In conclusion, the model with the data colums 'sepal.length' and 'petal.width.' is better than the model the data colums 'pepal.length' and 'petal.width' regarding overfitting. Nevertheless both models need to be improved and modified. "
   ]
  },
  {
   "cell_type": "code",
   "execution_count": null,
   "id": "a2c8caeb-9cde-419f-9bf7-3fa2732a43b2",
   "metadata": {},
   "outputs": [],
   "source": []
  }
 ],
 "metadata": {
  "kernelspec": {
   "display_name": "Python 3 (ipykernel)",
   "language": "python",
   "name": "python3"
  },
  "language_info": {
   "codemirror_mode": {
    "name": "ipython",
    "version": 3
   },
   "file_extension": ".py",
   "mimetype": "text/x-python",
   "name": "python",
   "nbconvert_exporter": "python",
   "pygments_lexer": "ipython3",
   "version": "3.10.12"
  }
 },
 "nbformat": 4,
 "nbformat_minor": 5
}
